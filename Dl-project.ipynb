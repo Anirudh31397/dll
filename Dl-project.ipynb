{
 "cells": [
  {
   "cell_type": "code",
   "execution_count": 1,
   "id": "d5929b48",
   "metadata": {
    "execution": {
     "iopub.execute_input": "2022-11-10T13:49:03.085800Z",
     "iopub.status.busy": "2022-11-10T13:49:03.085230Z",
     "iopub.status.idle": "2022-11-10T13:49:03.106222Z",
     "shell.execute_reply": "2022-11-10T13:49:03.104383Z"
    },
    "id": "DXL9UGER2bMy",
    "papermill": {
     "duration": 0.040683,
     "end_time": "2022-11-10T13:49:03.110720",
     "exception": false,
     "start_time": "2022-11-10T13:49:03.070037",
     "status": "completed"
    },
    "tags": []
   },
   "outputs": [],
   "source": [
    "import pandas as pd\n",
    "import numpy as np\n",
    "import matplotlib.pyplot as plt"
   ]
  },
  {
   "cell_type": "code",
   "execution_count": 2,
   "id": "b8fb30b1",
   "metadata": {
    "execution": {
     "iopub.execute_input": "2022-11-10T13:49:03.133252Z",
     "iopub.status.busy": "2022-11-10T13:49:03.132097Z",
     "iopub.status.idle": "2022-11-10T13:49:03.202781Z",
     "shell.execute_reply": "2022-11-10T13:49:03.199897Z"
    },
    "id": "KFlX32E32b-h",
    "outputId": "5bba8fed-4c90-42e1-8119-e998b57ee8f7",
    "papermill": {
     "duration": 0.088497,
     "end_time": "2022-11-10T13:49:03.209670",
     "exception": false,
     "start_time": "2022-11-10T13:49:03.121173",
     "status": "completed"
    },
    "tags": []
   },
   "outputs": [
    {
     "data": {
      "text/html": [
       "<div>\n",
       "<style scoped>\n",
       "    .dataframe tbody tr th:only-of-type {\n",
       "        vertical-align: middle;\n",
       "    }\n",
       "\n",
       "    .dataframe tbody tr th {\n",
       "        vertical-align: top;\n",
       "    }\n",
       "\n",
       "    .dataframe thead th {\n",
       "        text-align: right;\n",
       "    }\n",
       "</style>\n",
       "<table border=\"1\" class=\"dataframe\">\n",
       "  <thead>\n",
       "    <tr style=\"text-align: right;\">\n",
       "      <th></th>\n",
       "      <th>symbol</th>\n",
       "      <th>date</th>\n",
       "      <th>close</th>\n",
       "      <th>high</th>\n",
       "      <th>low</th>\n",
       "      <th>open</th>\n",
       "      <th>volume</th>\n",
       "      <th>adjClose</th>\n",
       "      <th>adjHigh</th>\n",
       "      <th>adjLow</th>\n",
       "      <th>adjOpen</th>\n",
       "      <th>adjVolume</th>\n",
       "      <th>divCash</th>\n",
       "      <th>splitFactor</th>\n",
       "    </tr>\n",
       "  </thead>\n",
       "  <tbody>\n",
       "    <tr>\n",
       "      <th>0</th>\n",
       "      <td>GOOG</td>\n",
       "      <td>2016-06-14 00:00:00+00:00</td>\n",
       "      <td>718.27</td>\n",
       "      <td>722.47</td>\n",
       "      <td>713.1200</td>\n",
       "      <td>716.48</td>\n",
       "      <td>1306065</td>\n",
       "      <td>718.27</td>\n",
       "      <td>722.47</td>\n",
       "      <td>713.1200</td>\n",
       "      <td>716.48</td>\n",
       "      <td>1306065</td>\n",
       "      <td>0.0</td>\n",
       "      <td>1.0</td>\n",
       "    </tr>\n",
       "    <tr>\n",
       "      <th>1</th>\n",
       "      <td>GOOG</td>\n",
       "      <td>2016-06-15 00:00:00+00:00</td>\n",
       "      <td>718.92</td>\n",
       "      <td>722.98</td>\n",
       "      <td>717.3100</td>\n",
       "      <td>719.00</td>\n",
       "      <td>1214517</td>\n",
       "      <td>718.92</td>\n",
       "      <td>722.98</td>\n",
       "      <td>717.3100</td>\n",
       "      <td>719.00</td>\n",
       "      <td>1214517</td>\n",
       "      <td>0.0</td>\n",
       "      <td>1.0</td>\n",
       "    </tr>\n",
       "    <tr>\n",
       "      <th>2</th>\n",
       "      <td>GOOG</td>\n",
       "      <td>2016-06-16 00:00:00+00:00</td>\n",
       "      <td>710.36</td>\n",
       "      <td>716.65</td>\n",
       "      <td>703.2600</td>\n",
       "      <td>714.91</td>\n",
       "      <td>1982471</td>\n",
       "      <td>710.36</td>\n",
       "      <td>716.65</td>\n",
       "      <td>703.2600</td>\n",
       "      <td>714.91</td>\n",
       "      <td>1982471</td>\n",
       "      <td>0.0</td>\n",
       "      <td>1.0</td>\n",
       "    </tr>\n",
       "    <tr>\n",
       "      <th>3</th>\n",
       "      <td>GOOG</td>\n",
       "      <td>2016-06-17 00:00:00+00:00</td>\n",
       "      <td>691.72</td>\n",
       "      <td>708.82</td>\n",
       "      <td>688.4515</td>\n",
       "      <td>708.65</td>\n",
       "      <td>3402357</td>\n",
       "      <td>691.72</td>\n",
       "      <td>708.82</td>\n",
       "      <td>688.4515</td>\n",
       "      <td>708.65</td>\n",
       "      <td>3402357</td>\n",
       "      <td>0.0</td>\n",
       "      <td>1.0</td>\n",
       "    </tr>\n",
       "    <tr>\n",
       "      <th>4</th>\n",
       "      <td>GOOG</td>\n",
       "      <td>2016-06-20 00:00:00+00:00</td>\n",
       "      <td>693.71</td>\n",
       "      <td>702.48</td>\n",
       "      <td>693.4100</td>\n",
       "      <td>698.77</td>\n",
       "      <td>2082538</td>\n",
       "      <td>693.71</td>\n",
       "      <td>702.48</td>\n",
       "      <td>693.4100</td>\n",
       "      <td>698.77</td>\n",
       "      <td>2082538</td>\n",
       "      <td>0.0</td>\n",
       "      <td>1.0</td>\n",
       "    </tr>\n",
       "  </tbody>\n",
       "</table>\n",
       "</div>"
      ],
      "text/plain": [
       "  symbol                       date   close    high       low    open  \\\n",
       "0   GOOG  2016-06-14 00:00:00+00:00  718.27  722.47  713.1200  716.48   \n",
       "1   GOOG  2016-06-15 00:00:00+00:00  718.92  722.98  717.3100  719.00   \n",
       "2   GOOG  2016-06-16 00:00:00+00:00  710.36  716.65  703.2600  714.91   \n",
       "3   GOOG  2016-06-17 00:00:00+00:00  691.72  708.82  688.4515  708.65   \n",
       "4   GOOG  2016-06-20 00:00:00+00:00  693.71  702.48  693.4100  698.77   \n",
       "\n",
       "    volume  adjClose  adjHigh    adjLow  adjOpen  adjVolume  divCash  \\\n",
       "0  1306065    718.27   722.47  713.1200   716.48    1306065      0.0   \n",
       "1  1214517    718.92   722.98  717.3100   719.00    1214517      0.0   \n",
       "2  1982471    710.36   716.65  703.2600   714.91    1982471      0.0   \n",
       "3  3402357    691.72   708.82  688.4515   708.65    3402357      0.0   \n",
       "4  2082538    693.71   702.48  693.4100   698.77    2082538      0.0   \n",
       "\n",
       "   splitFactor  \n",
       "0          1.0  \n",
       "1          1.0  \n",
       "2          1.0  \n",
       "3          1.0  \n",
       "4          1.0  "
      ]
     },
     "execution_count": 2,
     "metadata": {},
     "output_type": "execute_result"
    }
   ],
   "source": [
    "google_stock_data = pd.read_csv(r'GOOG.csv')\n",
    "google_stock_data.head()"
   ]
  },
  {
   "cell_type": "markdown",
   "id": "78ea06be",
   "metadata": {
    "papermill": {
     "duration": 0.008956,
     "end_time": "2022-11-10T13:49:03.234840",
     "exception": false,
     "start_time": "2022-11-10T13:49:03.225884",
     "status": "completed"
    },
    "tags": []
   },
   "source": [
    "# Understanding the data"
   ]
  },
  {
   "cell_type": "code",
   "execution_count": 3,
   "id": "0f0c8c14",
   "metadata": {
    "execution": {
     "iopub.execute_input": "2022-11-10T13:49:03.266298Z",
     "iopub.status.busy": "2022-11-10T13:49:03.265395Z",
     "iopub.status.idle": "2022-11-10T13:49:03.298047Z",
     "shell.execute_reply": "2022-11-10T13:49:03.295822Z"
    },
    "id": "rD5muzWA2cBd",
    "outputId": "8a62ca3b-b1c7-4b31-d097-f2f6184e438f",
    "papermill": {
     "duration": 0.049493,
     "end_time": "2022-11-10T13:49:03.301203",
     "exception": false,
     "start_time": "2022-11-10T13:49:03.251710",
     "status": "completed"
    },
    "tags": []
   },
   "outputs": [
    {
     "name": "stdout",
     "output_type": "stream",
     "text": [
      "<class 'pandas.core.frame.DataFrame'>\n",
      "RangeIndex: 1258 entries, 0 to 1257\n",
      "Data columns (total 14 columns):\n",
      " #   Column       Non-Null Count  Dtype  \n",
      "---  ------       --------------  -----  \n",
      " 0   symbol       1258 non-null   object \n",
      " 1   date         1258 non-null   object \n",
      " 2   close        1258 non-null   float64\n",
      " 3   high         1258 non-null   float64\n",
      " 4   low          1258 non-null   float64\n",
      " 5   open         1258 non-null   float64\n",
      " 6   volume       1258 non-null   int64  \n",
      " 7   adjClose     1258 non-null   float64\n",
      " 8   adjHigh      1258 non-null   float64\n",
      " 9   adjLow       1258 non-null   float64\n",
      " 10  adjOpen      1258 non-null   float64\n",
      " 11  adjVolume    1258 non-null   int64  \n",
      " 12  divCash      1258 non-null   float64\n",
      " 13  splitFactor  1258 non-null   float64\n",
      "dtypes: float64(10), int64(2), object(2)\n",
      "memory usage: 137.7+ KB\n"
     ]
    }
   ],
   "source": [
    "google_stock_data.info()"
   ]
  },
  {
   "cell_type": "code",
   "execution_count": 4,
   "id": "42f2efed",
   "metadata": {
    "execution": {
     "iopub.execute_input": "2022-11-10T13:49:03.324288Z",
     "iopub.status.busy": "2022-11-10T13:49:03.322873Z",
     "iopub.status.idle": "2022-11-10T13:49:03.354860Z",
     "shell.execute_reply": "2022-11-10T13:49:03.353354Z"
    },
    "id": "KHpBg4KNnYJB",
    "outputId": "fa98ce9e-66be-478d-dfc5-677f214c2c78",
    "papermill": {
     "duration": 0.045397,
     "end_time": "2022-11-10T13:49:03.357797",
     "exception": false,
     "start_time": "2022-11-10T13:49:03.312400",
     "status": "completed"
    },
    "tags": []
   },
   "outputs": [
    {
     "data": {
      "text/html": [
       "<div>\n",
       "<style scoped>\n",
       "    .dataframe tbody tr th:only-of-type {\n",
       "        vertical-align: middle;\n",
       "    }\n",
       "\n",
       "    .dataframe tbody tr th {\n",
       "        vertical-align: top;\n",
       "    }\n",
       "\n",
       "    .dataframe thead th {\n",
       "        text-align: right;\n",
       "    }\n",
       "</style>\n",
       "<table border=\"1\" class=\"dataframe\">\n",
       "  <thead>\n",
       "    <tr style=\"text-align: right;\">\n",
       "      <th></th>\n",
       "      <th>open</th>\n",
       "      <th>close</th>\n",
       "    </tr>\n",
       "    <tr>\n",
       "      <th>date</th>\n",
       "      <th></th>\n",
       "      <th></th>\n",
       "    </tr>\n",
       "  </thead>\n",
       "  <tbody>\n",
       "    <tr>\n",
       "      <th>2016-06-14</th>\n",
       "      <td>716.48</td>\n",
       "      <td>718.27</td>\n",
       "    </tr>\n",
       "    <tr>\n",
       "      <th>2016-06-15</th>\n",
       "      <td>719.00</td>\n",
       "      <td>718.92</td>\n",
       "    </tr>\n",
       "    <tr>\n",
       "      <th>2016-06-16</th>\n",
       "      <td>714.91</td>\n",
       "      <td>710.36</td>\n",
       "    </tr>\n",
       "    <tr>\n",
       "      <th>2016-06-17</th>\n",
       "      <td>708.65</td>\n",
       "      <td>691.72</td>\n",
       "    </tr>\n",
       "    <tr>\n",
       "      <th>2016-06-20</th>\n",
       "      <td>698.77</td>\n",
       "      <td>693.71</td>\n",
       "    </tr>\n",
       "  </tbody>\n",
       "</table>\n",
       "</div>"
      ],
      "text/plain": [
       "              open   close\n",
       "date                      \n",
       "2016-06-14  716.48  718.27\n",
       "2016-06-15  719.00  718.92\n",
       "2016-06-16  714.91  710.36\n",
       "2016-06-17  708.65  691.72\n",
       "2016-06-20  698.77  693.71"
      ]
     },
     "execution_count": 4,
     "metadata": {},
     "output_type": "execute_result"
    }
   ],
   "source": [
    "google_stock_data = google_stock_data[['date','open','close']] # Extracting required columns\n",
    "google_stock_data['date'] = pd.to_datetime(google_stock_data['date'].apply(lambda x: x.split()[0])) # Selecting only date and converting from string to date\n",
    "google_stock_data.set_index('date',drop=True,inplace=True) # Setting date column as index\n",
    "google_stock_data.head()"
   ]
  },
  {
   "cell_type": "code",
   "execution_count": 5,
   "id": "fdda7155",
   "metadata": {
    "_kg_hide-input": true,
    "execution": {
     "iopub.execute_input": "2022-11-10T13:49:03.377287Z",
     "iopub.status.busy": "2022-11-10T13:49:03.376857Z",
     "iopub.status.idle": "2022-11-10T13:49:03.925286Z",
     "shell.execute_reply": "2022-11-10T13:49:03.923472Z"
    },
    "id": "17mfyZrq2cE9",
    "outputId": "3967e04c-6b57-41fc-84dd-35eecfb15269",
    "papermill": {
     "duration": 0.561749,
     "end_time": "2022-11-10T13:49:03.928335",
     "exception": false,
     "start_time": "2022-11-10T13:49:03.366586",
     "status": "completed"
    },
    "tags": []
   },
   "outputs": [
    {
     "name": "stderr",
     "output_type": "stream",
     "text": [
      "C:\\Users\\katta\\AppData\\Local\\Temp\\ipykernel_3184\\52026741.py:12: UserWarning: Matplotlib is currently using module://matplotlib_inline.backend_inline, which is a non-GUI backend, so cannot show the figure.\n",
      "  fg.show()\n"
     ]
    },
    {
     "data": {
      "image/png": "[encoded data removed]",
      "text/plain": [
       "<Figure size 1440x504 with 2 Axes>"
      ]
     },
     "metadata": {
      "needs_background": "light"
     },
     "output_type": "display_data"
    }
   ],
   "source": [
    "fg, ax =plt.subplots(1,2,figsize=(20,7))\n",
    "ax[0].plot(google_stock_data['open'],label='Open',color='green')\n",
    "ax[0].set_xlabel('Date',size=15)\n",
    "ax[0].set_ylabel('Price',size=15)\n",
    "ax[0].legend()\n",
    "\n",
    "ax[1].plot(google_stock_data['close'],label='Close',color='red')\n",
    "ax[1].set_xlabel('Date',size=15)\n",
    "ax[1].set_ylabel('Price',size=15)\n",
    "ax[1].legend()\n",
    "\n",
    "fg.show()"
   ]
  },
  {
   "cell_type": "markdown",
   "id": "0f05a671",
   "metadata": {
    "id": "PTYHF02Y6B1m",
    "papermill": {
     "duration": 0.009296,
     "end_time": "2022-11-10T13:49:03.947429",
     "exception": false,
     "start_time": "2022-11-10T13:49:03.938133",
     "status": "completed"
    },
    "tags": []
   },
   "source": [
    "# Data Pre-Processing"
   ]
  },
  {
   "cell_type": "code",
   "execution_count": 6,
   "id": "c003574f",
   "metadata": {
    "execution": {
     "iopub.execute_input": "2022-11-10T13:49:03.969560Z",
     "iopub.status.busy": "2022-11-10T13:49:03.969085Z",
     "iopub.status.idle": "2022-11-10T13:49:05.231581Z",
     "shell.execute_reply": "2022-11-10T13:49:05.229896Z"
    },
    "id": "XgHWQ2SK2cH4",
    "papermill": {
     "duration": 1.277864,
     "end_time": "2022-11-10T13:49:05.235446",
     "exception": false,
     "start_time": "2022-11-10T13:49:03.957582",
     "status": "completed"
    },
    "tags": []
   },
   "outputs": [],
   "source": [
    "#data normalizing each feature is normalised in to range of (0,1)\n",
    "from sklearn.preprocessing import MinMaxScaler\n",
    "MMS = MinMaxScaler()\n",
    "google_stock_data[google_stock_data.columns] = MMS.fit_transform(google_stock_data)"
   ]
  },
  {
   "cell_type": "code",
   "execution_count": 7,
   "id": "bac20f47",
   "metadata": {
    "execution": {
     "iopub.execute_input": "2022-11-10T13:49:05.258784Z",
     "iopub.status.busy": "2022-11-10T13:49:05.257421Z",
     "iopub.status.idle": "2022-11-10T13:49:05.268007Z",
     "shell.execute_reply": "2022-11-10T13:49:05.266124Z"
    },
    "id": "vUhYPfaR2cP0",
    "outputId": "8037611d-ad8d-4be7-ae8e-2482c6204932",
    "papermill": {
     "duration": 0.025165,
     "end_time": "2022-11-10T13:49:05.270782",
     "exception": false,
     "start_time": "2022-11-10T13:49:05.245617",
     "status": "completed"
    },
    "tags": []
   },
   "outputs": [
    {
     "data": {
      "text/plain": [
       "(1258, 2)"
      ]
     },
     "execution_count": 7,
     "metadata": {},
     "output_type": "execute_result"
    }
   ],
   "source": [
    "#dimensions of the dataframe(rows ,columns)\n",
    "google_stock_data.shape"
   ]
  },
  {
   "cell_type": "code",
   "execution_count": 8,
   "id": "a6e6f44e",
   "metadata": {
    "execution": {
     "iopub.execute_input": "2022-11-10T13:49:05.293632Z",
     "iopub.status.busy": "2022-11-10T13:49:05.293098Z",
     "iopub.status.idle": "2022-11-10T13:49:05.303728Z",
     "shell.execute_reply": "2022-11-10T13:49:05.302411Z"
    },
    "id": "o4shudsl2cS3",
    "outputId": "885f7989-ad9c-4723-9626-54b58b382c1e",
    "papermill": {
     "duration": 0.025969,
     "end_time": "2022-11-10T13:49:05.307187",
     "exception": false,
     "start_time": "2022-11-10T13:49:05.281218",
     "status": "completed"
    },
    "tags": []
   },
   "outputs": [
    {
     "data": {
      "text/plain": [
       "1006"
      ]
     },
     "execution_count": 8,
     "metadata": {},
     "output_type": "execute_result"
    }
   ],
   "source": [
    "training_size = round(len(google_stock_data) * 0.80) # Selecting 80 % for training and 20 % for testing\n",
    "training_size"
   ]
  },
  {
   "cell_type": "code",
   "execution_count": 9,
   "id": "4ed0228f",
   "metadata": {
    "execution": {
     "iopub.execute_input": "2022-11-10T13:49:05.333546Z",
     "iopub.status.busy": "2022-11-10T13:49:05.332352Z",
     "iopub.status.idle": "2022-11-10T13:49:05.342767Z",
     "shell.execute_reply": "2022-11-10T13:49:05.340898Z"
    },
    "id": "XWI_TMQC2cWB",
    "outputId": "1cf28a43-311a-4ef4-db20-d3f22c7ef51e",
    "papermill": {
     "duration": 0.027482,
     "end_time": "2022-11-10T13:49:05.346078",
     "exception": false,
     "start_time": "2022-11-10T13:49:05.318596",
     "status": "completed"
    },
    "tags": []
   },
   "outputs": [
    {
     "data": {
      "text/plain": [
       "((1006, 2), (252, 2))"
      ]
     },
     "execution_count": 9,
     "metadata": {},
     "output_type": "execute_result"
    }
   ],
   "source": [
    "#rows and columns of each dataframe in both training and testing data frames\n",
    "train_data = google_stock_data[:training_size]\n",
    "test_data  = google_stock_data[training_size:]\n",
    "\n",
    "train_data.shape, test_data.shape"
   ]
  },
  {
   "cell_type": "code",
   "execution_count": 10,
   "id": "fa39d42d",
   "metadata": {
    "execution": {
     "iopub.execute_input": "2022-11-10T13:49:05.370326Z",
     "iopub.status.busy": "2022-11-10T13:49:05.369881Z",
     "iopub.status.idle": "2022-11-10T13:49:05.377769Z",
     "shell.execute_reply": "2022-11-10T13:49:05.376139Z"
    },
    "id": "CqpXvPeD7zUY",
    "papermill": {
     "duration": 0.02308,
     "end_time": "2022-11-10T13:49:05.380586",
     "exception": false,
     "start_time": "2022-11-10T13:49:05.357506",
     "status": "completed"
    },
    "tags": []
   },
   "outputs": [],
   "source": [
    "# Function to create sequence of data for training and testing and return two arrays  sequence and labels\n",
    "\n",
    "def create_sequence(dataset):\n",
    "  sequences = []\n",
    "  labels = []\n",
    "\n",
    "  start_idx = 0\n",
    "\n",
    "  for stop_idx in range(50,len(dataset)): # Selecting 50 rows at a time\n",
    "    sequences.append(dataset.iloc[start_idx:stop_idx])\n",
    "    labels.append(dataset.iloc[stop_idx])\n",
    "    start_idx += 1\n",
    "  return (np.array(sequences),np.array(labels))\n"
   ]
  },
  {
   "cell_type": "code",
   "execution_count": 11,
   "id": "df21a442",
   "metadata": {
    "execution": {
     "iopub.execute_input": "2022-11-10T13:49:05.404687Z",
     "iopub.status.busy": "2022-11-10T13:49:05.404278Z",
     "iopub.status.idle": "2022-11-10T13:49:05.594362Z",
     "shell.execute_reply": "2022-11-10T13:49:05.592920Z"
    },
    "id": "xqkyw0e-7zW3",
    "papermill": {
     "duration": 0.205159,
     "end_time": "2022-11-10T13:49:05.597547",
     "exception": false,
     "start_time": "2022-11-10T13:49:05.392388",
     "status": "completed"
    },
    "tags": []
   },
   "outputs": [],
   "source": [
    "train_seq, train_label = create_sequence(train_data)\n",
    "test_seq, test_label = create_sequence(test_data)"
   ]
  },
  {
   "cell_type": "code",
   "execution_count": 12,
   "id": "9af17285",
   "metadata": {
    "execution": {
     "iopub.execute_input": "2022-11-10T13:49:05.622316Z",
     "iopub.status.busy": "2022-11-10T13:49:05.621890Z",
     "iopub.status.idle": "2022-11-10T13:49:05.630425Z",
     "shell.execute_reply": "2022-11-10T13:49:05.629204Z"
    },
    "id": "ZpsCI6jf_oC2",
    "outputId": "1c0a74ae-8205-44a9-8748-18318845a365",
    "papermill": {
     "duration": 0.023537,
     "end_time": "2022-11-10T13:49:05.632810",
     "exception": false,
     "start_time": "2022-11-10T13:49:05.609273",
     "status": "completed"
    },
    "tags": []
   },
   "outputs": [
    {
     "data": {
      "text/plain": [
       "((956, 50, 2), (956, 2), (202, 50, 2), (202, 2))"
      ]
     },
     "execution_count": 12,
     "metadata": {},
     "output_type": "execute_result"
    }
   ],
   "source": [
    "#shape of each array  i,e sequence and label arrays\n",
    "train_seq.shape, train_label.shape, test_seq.shape, test_label.shape"
   ]
  },
  {
   "cell_type": "markdown",
   "id": "8809a918",
   "metadata": {
    "id": "lbRE8i0Y6GGL",
    "papermill": {
     "duration": 0.009935,
     "end_time": "2022-11-10T13:49:05.653011",
     "exception": false,
     "start_time": "2022-11-10T13:49:05.643076",
     "status": "completed"
    },
    "tags": []
   },
   "source": [
    "# Creating LSTM model"
   ]
  },
  {
   "cell_type": "code",
   "execution_count": 13,
   "id": "35caadcf",
   "metadata": {
    "execution": {
     "iopub.execute_input": "2022-11-10T13:49:05.675226Z",
     "iopub.status.busy": "2022-11-10T13:49:05.674713Z",
     "iopub.status.idle": "2022-11-10T13:49:12.344837Z",
     "shell.execute_reply": "2022-11-10T13:49:12.343162Z"
    },
    "id": "etmB-Lbd7zZa",
    "papermill": {
     "duration": 6.685103,
     "end_time": "2022-11-10T13:49:12.348185",
     "exception": false,
     "start_time": "2022-11-10T13:49:05.663082",
     "status": "completed"
    },
    "tags": []
   },
   "outputs": [],
   "source": [
    "from keras.models import Sequential\n",
    "from keras.layers import Dense, Dropout, LSTM, Bidirectional"
   ]
  },
  {
   "cell_type": "code",
   "execution_count": 14,
   "id": "997f345b",
   "metadata": {
    "execution": {
     "iopub.execute_input": "2022-11-10T13:49:12.372748Z",
     "iopub.status.busy": "2022-11-10T13:49:12.372034Z",
     "iopub.status.idle": "2022-11-10T13:49:13.065048Z",
     "shell.execute_reply": "2022-11-10T13:49:13.063037Z"
    },
    "id": "FntEHOeG7zcE",
    "outputId": "870dc502-f598-4826-ef48-25724058761d",
    "papermill": {
     "duration": 0.708346,
     "end_time": "2022-11-10T13:49:13.068384",
     "exception": false,
     "start_time": "2022-11-10T13:49:12.360038",
     "status": "completed"
    },
    "tags": []
   },
   "outputs": [
    {
     "name": "stdout",
     "output_type": "stream",
     "text": [
      "Model: \"sequential\"\n",
      "_________________________________________________________________\n",
      " Layer (type)                Output Shape              Param #   \n",
      "=================================================================\n",
      " lstm (LSTM)                 (None, 50, 50)            10600     \n",
      "                                                                 \n",
      " dropout (Dropout)           (None, 50, 50)            0         \n",
      "                                                                 \n",
      " lstm_1 (LSTM)               (None, 50)                20200     \n",
      "                                                                 \n",
      " dense (Dense)               (None, 2)                 102       \n",
      "                                                                 \n",
      "=================================================================\n",
      "Total params: 30,902\n",
      "Trainable params: 30,902\n",
      "Non-trainable params: 0\n",
      "_________________________________________________________________\n"
     ]
    }
   ],
   "source": [
    "#defining the model with two lstm layers and one dense output layer\n",
    "#create a sequential model\n",
    "model = Sequential()\n",
    "#it adds an LSTM layer with 50 units(number of neurons)\n",
    "model.add(LSTM(units=50, return_sequences=True, input_shape = (train_seq.shape[1], train_seq.shape[2])))\n",
    "#it adds a Dropout layer with a dropout rate of 0.1, which helps prevent overfitting\n",
    "model.add(Dropout(0.1)) \n",
    "#it  adds another LSTM layer with 50 units.\n",
    "model.add(LSTM(units=50))\n",
    "#it  adds a Dense layer with 2 units\n",
    "model.add(Dense(2))\n",
    "#compiles the model with mean_squared_error as the loss  function, Adam as the optimizer, and mean_absolute_error as the evaluation metric.\n",
    "model.compile(loss='mean_squared_error', optimizer='adam', metrics=['mean_absolute_error'])\n",
    "\n",
    "model.summary()"
   ]
  },
  {
   "cell_type": "code",
   "execution_count": 15,
   "id": "0b855290",
   "metadata": {
    "_kg_hide-output": true,
    "execution": {
     "iopub.execute_input": "2022-11-10T13:49:13.091805Z",
     "iopub.status.busy": "2022-11-10T13:49:13.091321Z",
     "iopub.status.idle": "2022-11-10T13:53:11.105693Z",
     "shell.execute_reply": "2022-11-10T13:53:11.103748Z"
    },
    "id": "5sFY8gn97zeC",
    "outputId": "2ee9dfaf-e6de-4f98-bd24-fedc69f238b5",
    "papermill": {
     "duration": 238.029734,
     "end_time": "2022-11-10T13:53:11.108876",
     "exception": false,
     "start_time": "2022-11-10T13:49:13.079142",
     "status": "completed"
    },
    "tags": []
   },
   "outputs": [
    {
     "name": "stdout",
     "output_type": "stream",
     "text": [
      "Epoch 1/80\n",
      "30/30 [==============================] - 10s 97ms/step - loss: 0.0058 - mean_absolute_error: 0.0521 - val_loss: 0.0191 - val_mean_absolute_error: 0.1216\n",
      "Epoch 2/80\n",
      "30/30 [==============================] - 1s 48ms/step - loss: 6.4462e-04 - mean_absolute_error: 0.0188 - val_loss: 0.0028 - val_mean_absolute_error: 0.0415\n",
      "Epoch 3/80\n",
      "30/30 [==============================] - 2s 51ms/step - loss: 5.3303e-04 - mean_absolute_error: 0.0162 - val_loss: 0.0033 - val_mean_absolute_error: 0.0458\n",
      "Epoch 4/80\n",
      "30/30 [==============================] - 1s 43ms/step - loss: 5.1317e-04 - mean_absolute_error: 0.0162 - val_loss: 0.0065 - val_mean_absolute_error: 0.0688\n",
      "Epoch 5/80\n",
      "30/30 [==============================] - 1s 47ms/step - loss: 4.6330e-04 - mean_absolute_error: 0.0154 - val_loss: 0.0054 - val_mean_absolute_error: 0.0616\n",
      "Epoch 6/80\n",
      "30/30 [==============================] - 1s 44ms/step - loss: 4.5389e-04 - mean_absolute_error: 0.0154 - val_loss: 0.0073 - val_mean_absolute_error: 0.0738\n",
      "Epoch 7/80\n",
      "30/30 [==============================] - 1s 43ms/step - loss: 4.6396e-04 - mean_absolute_error: 0.0156 - val_loss: 0.0049 - val_mean_absolute_error: 0.0587\n",
      "Epoch 8/80\n",
      "30/30 [==============================] - 1s 44ms/step - loss: 3.9793e-04 - mean_absolute_error: 0.0143 - val_loss: 0.0023 - val_mean_absolute_error: 0.0375\n",
      "Epoch 9/80\n",
      "30/30 [==============================] - 1s 44ms/step - loss: 3.9610e-04 - mean_absolute_error: 0.0143 - val_loss: 0.0028 - val_mean_absolute_error: 0.0416\n",
      "Epoch 10/80\n",
      "30/30 [==============================] - 1s 45ms/step - loss: 3.6898e-04 - mean_absolute_error: 0.0138 - val_loss: 0.0035 - val_mean_absolute_error: 0.0483\n",
      "Epoch 11/80\n",
      "30/30 [==============================] - 1s 44ms/step - loss: 3.5200e-04 - mean_absolute_error: 0.0136 - val_loss: 0.0033 - val_mean_absolute_error: 0.0463\n",
      "Epoch 12/80\n",
      "30/30 [==============================] - 1s 45ms/step - loss: 3.4249e-04 - mean_absolute_error: 0.0133 - val_loss: 0.0066 - val_mean_absolute_error: 0.0695\n",
      "Epoch 13/80\n",
      "30/30 [==============================] - 1s 45ms/step - loss: 3.5975e-04 - mean_absolute_error: 0.0140 - val_loss: 0.0044 - val_mean_absolute_error: 0.0549\n",
      "Epoch 14/80\n",
      "30/30 [==============================] - 1s 43ms/step - loss: 3.2464e-04 - mean_absolute_error: 0.0132 - val_loss: 0.0025 - val_mean_absolute_error: 0.0386\n",
      "Epoch 15/80\n",
      "30/30 [==============================] - 1s 44ms/step - loss: 3.6744e-04 - mean_absolute_error: 0.0143 - val_loss: 0.0064 - val_mean_absolute_error: 0.0669\n",
      "Epoch 16/80\n",
      "30/30 [==============================] - 1s 47ms/step - loss: 3.3150e-04 - mean_absolute_error: 0.0131 - val_loss: 0.0058 - val_mean_absolute_error: 0.0635\n",
      "Epoch 17/80\n",
      "30/30 [==============================] - 1s 48ms/step - loss: 2.9981e-04 - mean_absolute_error: 0.0127 - val_loss: 0.0099 - val_mean_absolute_error: 0.0865\n",
      "Epoch 18/80\n",
      "30/30 [==============================] - 1s 45ms/step - loss: 3.3097e-04 - mean_absolute_error: 0.0133 - val_loss: 0.0142 - val_mean_absolute_error: 0.1061\n",
      "Epoch 19/80\n",
      "30/30 [==============================] - 1s 44ms/step - loss: 3.2141e-04 - mean_absolute_error: 0.0131 - val_loss: 0.0029 - val_mean_absolute_error: 0.0419\n",
      "Epoch 20/80\n",
      "30/30 [==============================] - 2s 51ms/step - loss: 3.0506e-04 - mean_absolute_error: 0.0128 - val_loss: 0.0061 - val_mean_absolute_error: 0.0659\n",
      "Epoch 21/80\n",
      "30/30 [==============================] - 2s 55ms/step - loss: 2.8973e-04 - mean_absolute_error: 0.0124 - val_loss: 0.0037 - val_mean_absolute_error: 0.0479\n",
      "Epoch 22/80\n",
      "30/30 [==============================] - 1s 46ms/step - loss: 2.8049e-04 - mean_absolute_error: 0.0122 - val_loss: 0.0046 - val_mean_absolute_error: 0.0548\n",
      "Epoch 23/80\n",
      "30/30 [==============================] - 1s 50ms/step - loss: 2.7598e-04 - mean_absolute_error: 0.0121 - val_loss: 0.0056 - val_mean_absolute_error: 0.0626\n",
      "Epoch 24/80\n",
      "30/30 [==============================] - 1s 48ms/step - loss: 2.7016e-04 - mean_absolute_error: 0.0120 - val_loss: 0.0044 - val_mean_absolute_error: 0.0539\n",
      "Epoch 25/80\n",
      "30/30 [==============================] - 1s 49ms/step - loss: 2.5626e-04 - mean_absolute_error: 0.0118 - val_loss: 0.0055 - val_mean_absolute_error: 0.0617\n",
      "Epoch 26/80\n",
      "30/30 [==============================] - 1s 47ms/step - loss: 2.8622e-04 - mean_absolute_error: 0.0124 - val_loss: 0.0051 - val_mean_absolute_error: 0.0593\n",
      "Epoch 27/80\n",
      "30/30 [==============================] - 1s 45ms/step - loss: 2.6165e-04 - mean_absolute_error: 0.0117 - val_loss: 0.0033 - val_mean_absolute_error: 0.0456\n",
      "Epoch 28/80\n",
      "30/30 [==============================] - 1s 44ms/step - loss: 2.5548e-04 - mean_absolute_error: 0.0116 - val_loss: 0.0050 - val_mean_absolute_error: 0.0593\n",
      "Epoch 29/80\n",
      "30/30 [==============================] - 1s 44ms/step - loss: 2.5094e-04 - mean_absolute_error: 0.0116 - val_loss: 0.0042 - val_mean_absolute_error: 0.0532\n",
      "Epoch 30/80\n",
      "30/30 [==============================] - 1s 46ms/step - loss: 2.8868e-04 - mean_absolute_error: 0.0125 - val_loss: 0.0074 - val_mean_absolute_error: 0.0742\n",
      "Epoch 31/80\n",
      "30/30 [==============================] - 1s 47ms/step - loss: 2.5381e-04 - mean_absolute_error: 0.0117 - val_loss: 0.0049 - val_mean_absolute_error: 0.0591\n",
      "Epoch 32/80\n",
      "30/30 [==============================] - 1s 43ms/step - loss: 2.5777e-04 - mean_absolute_error: 0.0116 - val_loss: 0.0069 - val_mean_absolute_error: 0.0717\n",
      "Epoch 33/80\n",
      "30/30 [==============================] - 1s 43ms/step - loss: 2.5583e-04 - mean_absolute_error: 0.0119 - val_loss: 0.0033 - val_mean_absolute_error: 0.0463\n",
      "Epoch 34/80\n",
      "30/30 [==============================] - 1s 44ms/step - loss: 2.5074e-04 - mean_absolute_error: 0.0116 - val_loss: 0.0026 - val_mean_absolute_error: 0.0401\n",
      "Epoch 35/80\n",
      "30/30 [==============================] - 1s 44ms/step - loss: 2.3993e-04 - mean_absolute_error: 0.0113 - val_loss: 0.0069 - val_mean_absolute_error: 0.0725\n",
      "Epoch 36/80\n",
      "30/30 [==============================] - 1s 42ms/step - loss: 2.2939e-04 - mean_absolute_error: 0.0111 - val_loss: 0.0023 - val_mean_absolute_error: 0.0374\n",
      "Epoch 37/80\n",
      "30/30 [==============================] - 1s 43ms/step - loss: 2.5519e-04 - mean_absolute_error: 0.0117 - val_loss: 0.0036 - val_mean_absolute_error: 0.0491\n",
      "Epoch 38/80\n",
      "30/30 [==============================] - 1s 44ms/step - loss: 2.3813e-04 - mean_absolute_error: 0.0114 - val_loss: 0.0043 - val_mean_absolute_error: 0.0554\n",
      "Epoch 39/80\n",
      "30/30 [==============================] - 1s 44ms/step - loss: 2.2121e-04 - mean_absolute_error: 0.0108 - val_loss: 0.0043 - val_mean_absolute_error: 0.0555\n",
      "Epoch 40/80\n",
      "30/30 [==============================] - 1s 43ms/step - loss: 2.2725e-04 - mean_absolute_error: 0.0109 - val_loss: 0.0022 - val_mean_absolute_error: 0.0371\n",
      "Epoch 41/80\n",
      "30/30 [==============================] - 1s 44ms/step - loss: 2.3077e-04 - mean_absolute_error: 0.0112 - val_loss: 0.0037 - val_mean_absolute_error: 0.0502\n",
      "Epoch 42/80\n",
      "30/30 [==============================] - 1s 44ms/step - loss: 2.3891e-04 - mean_absolute_error: 0.0115 - val_loss: 0.0017 - val_mean_absolute_error: 0.0319\n",
      "Epoch 43/80\n",
      "30/30 [==============================] - 1s 43ms/step - loss: 2.3501e-04 - mean_absolute_error: 0.0112 - val_loss: 0.0046 - val_mean_absolute_error: 0.0586\n",
      "Epoch 44/80\n",
      "30/30 [==============================] - 1s 42ms/step - loss: 2.0913e-04 - mean_absolute_error: 0.0107 - val_loss: 0.0022 - val_mean_absolute_error: 0.0379\n",
      "Epoch 45/80\n",
      "30/30 [==============================] - 1s 45ms/step - loss: 2.0919e-04 - mean_absolute_error: 0.0106 - val_loss: 0.0017 - val_mean_absolute_error: 0.0320\n",
      "Epoch 46/80\n",
      "30/30 [==============================] - 1s 45ms/step - loss: 2.0161e-04 - mean_absolute_error: 0.0104 - val_loss: 0.0010 - val_mean_absolute_error: 0.0241\n",
      "Epoch 47/80\n",
      "30/30 [==============================] - 1s 50ms/step - loss: 2.4874e-04 - mean_absolute_error: 0.0118 - val_loss: 0.0011 - val_mean_absolute_error: 0.0260\n",
      "Epoch 48/80\n",
      "30/30 [==============================] - 1s 44ms/step - loss: 2.0110e-04 - mean_absolute_error: 0.0103 - val_loss: 0.0024 - val_mean_absolute_error: 0.0410\n",
      "Epoch 49/80\n",
      "30/30 [==============================] - 1s 45ms/step - loss: 1.9384e-04 - mean_absolute_error: 0.0101 - val_loss: 0.0028 - val_mean_absolute_error: 0.0453\n"
     ]
    },
    {
     "name": "stdout",
     "output_type": "stream",
     "text": [
      "Epoch 50/80\n",
      "30/30 [==============================] - 1s 43ms/step - loss: 1.9874e-04 - mean_absolute_error: 0.0103 - val_loss: 0.0011 - val_mean_absolute_error: 0.0259\n",
      "Epoch 51/80\n",
      "30/30 [==============================] - 1s 43ms/step - loss: 1.7839e-04 - mean_absolute_error: 0.0097 - val_loss: 0.0015 - val_mean_absolute_error: 0.0311\n",
      "Epoch 52/80\n",
      "30/30 [==============================] - 1s 43ms/step - loss: 2.0751e-04 - mean_absolute_error: 0.0105 - val_loss: 0.0019 - val_mean_absolute_error: 0.0361\n",
      "Epoch 53/80\n",
      "30/30 [==============================] - 1s 43ms/step - loss: 1.7918e-04 - mean_absolute_error: 0.0096 - val_loss: 0.0024 - val_mean_absolute_error: 0.0406\n",
      "Epoch 54/80\n",
      "30/30 [==============================] - 1s 43ms/step - loss: 1.8739e-04 - mean_absolute_error: 0.0098 - val_loss: 0.0011 - val_mean_absolute_error: 0.0259\n",
      "Epoch 55/80\n",
      "30/30 [==============================] - 1s 42ms/step - loss: 1.7787e-04 - mean_absolute_error: 0.0096 - val_loss: 0.0025 - val_mean_absolute_error: 0.0422\n",
      "Epoch 56/80\n",
      "30/30 [==============================] - 1s 42ms/step - loss: 1.8759e-04 - mean_absolute_error: 0.0101 - val_loss: 8.9613e-04 - val_mean_absolute_error: 0.0230\n",
      "Epoch 57/80\n",
      "30/30 [==============================] - 1s 43ms/step - loss: 1.8072e-04 - mean_absolute_error: 0.0097 - val_loss: 0.0021 - val_mean_absolute_error: 0.0388\n",
      "Epoch 58/80\n",
      "30/30 [==============================] - 1s 43ms/step - loss: 1.8892e-04 - mean_absolute_error: 0.0100 - val_loss: 0.0011 - val_mean_absolute_error: 0.0254\n",
      "Epoch 59/80\n",
      "30/30 [==============================] - 1s 45ms/step - loss: 1.7842e-04 - mean_absolute_error: 0.0096 - val_loss: 0.0015 - val_mean_absolute_error: 0.0318\n",
      "Epoch 60/80\n",
      "30/30 [==============================] - 1s 47ms/step - loss: 1.6173e-04 - mean_absolute_error: 0.0092 - val_loss: 0.0019 - val_mean_absolute_error: 0.0366\n",
      "Epoch 61/80\n",
      "30/30 [==============================] - 1s 45ms/step - loss: 1.6754e-04 - mean_absolute_error: 0.0094 - val_loss: 0.0019 - val_mean_absolute_error: 0.0361\n",
      "Epoch 62/80\n",
      "30/30 [==============================] - 1s 43ms/step - loss: 1.6167e-04 - mean_absolute_error: 0.0092 - val_loss: 0.0011 - val_mean_absolute_error: 0.0266\n",
      "Epoch 63/80\n",
      "30/30 [==============================] - 1s 44ms/step - loss: 1.6350e-04 - mean_absolute_error: 0.0093 - val_loss: 0.0013 - val_mean_absolute_error: 0.0295\n",
      "Epoch 64/80\n",
      "30/30 [==============================] - 1s 46ms/step - loss: 1.8647e-04 - mean_absolute_error: 0.0101 - val_loss: 8.2856e-04 - val_mean_absolute_error: 0.0223\n",
      "Epoch 65/80\n",
      "30/30 [==============================] - 1s 44ms/step - loss: 1.7612e-04 - mean_absolute_error: 0.0097 - val_loss: 0.0011 - val_mean_absolute_error: 0.0262\n",
      "Epoch 66/80\n",
      "30/30 [==============================] - 1s 45ms/step - loss: 1.7595e-04 - mean_absolute_error: 0.0096 - val_loss: 8.8304e-04 - val_mean_absolute_error: 0.0233\n",
      "Epoch 67/80\n",
      "30/30 [==============================] - 1s 43ms/step - loss: 1.6727e-04 - mean_absolute_error: 0.0093 - val_loss: 0.0017 - val_mean_absolute_error: 0.0342\n",
      "Epoch 68/80\n",
      "30/30 [==============================] - 1s 45ms/step - loss: 1.6602e-04 - mean_absolute_error: 0.0094 - val_loss: 8.1602e-04 - val_mean_absolute_error: 0.0221\n",
      "Epoch 69/80\n",
      "30/30 [==============================] - 1s 43ms/step - loss: 1.5454e-04 - mean_absolute_error: 0.0091 - val_loss: 5.8038e-04 - val_mean_absolute_error: 0.0181\n",
      "Epoch 70/80\n",
      "30/30 [==============================] - 1s 44ms/step - loss: 1.6564e-04 - mean_absolute_error: 0.0093 - val_loss: 0.0034 - val_mean_absolute_error: 0.0522\n",
      "Epoch 71/80\n",
      "30/30 [==============================] - 1s 44ms/step - loss: 1.6552e-04 - mean_absolute_error: 0.0094 - val_loss: 0.0011 - val_mean_absolute_error: 0.0263\n",
      "Epoch 72/80\n",
      "30/30 [==============================] - 1s 47ms/step - loss: 1.4819e-04 - mean_absolute_error: 0.0087 - val_loss: 0.0019 - val_mean_absolute_error: 0.0371\n",
      "Epoch 73/80\n",
      "30/30 [==============================] - 1s 47ms/step - loss: 1.3886e-04 - mean_absolute_error: 0.0084 - val_loss: 8.9547e-04 - val_mean_absolute_error: 0.0239\n",
      "Epoch 74/80\n",
      "30/30 [==============================] - 1s 47ms/step - loss: 1.5152e-04 - mean_absolute_error: 0.0088 - val_loss: 0.0017 - val_mean_absolute_error: 0.0358\n",
      "Epoch 75/80\n",
      "30/30 [==============================] - 1s 46ms/step - loss: 1.5058e-04 - mean_absolute_error: 0.0088 - val_loss: 5.2446e-04 - val_mean_absolute_error: 0.0173\n",
      "Epoch 76/80\n",
      "30/30 [==============================] - 1s 44ms/step - loss: 1.3986e-04 - mean_absolute_error: 0.0085 - val_loss: 8.4266e-04 - val_mean_absolute_error: 0.0229\n",
      "Epoch 77/80\n",
      "30/30 [==============================] - 1s 41ms/step - loss: 1.3199e-04 - mean_absolute_error: 0.0083 - val_loss: 5.6074e-04 - val_mean_absolute_error: 0.0177\n",
      "Epoch 78/80\n",
      "30/30 [==============================] - 1s 45ms/step - loss: 1.4958e-04 - mean_absolute_error: 0.0088 - val_loss: 0.0018 - val_mean_absolute_error: 0.0375\n",
      "Epoch 79/80\n",
      "30/30 [==============================] - 1s 48ms/step - loss: 1.7558e-04 - mean_absolute_error: 0.0098 - val_loss: 5.4126e-04 - val_mean_absolute_error: 0.0176\n",
      "Epoch 80/80\n",
      "30/30 [==============================] - 1s 44ms/step - loss: 1.4649e-04 - mean_absolute_error: 0.0087 - val_loss: 4.6213e-04 - val_mean_absolute_error: 0.0158\n"
     ]
    },
    {
     "data": {
      "text/plain": [
       "<keras.callbacks.History at 0x1fc2b298eb0>"
      ]
     },
     "execution_count": 15,
     "metadata": {},
     "output_type": "execute_result"
    }
   ],
   "source": [
    "model.fit(train_seq, train_label, epochs=80,validation_data=(test_seq, test_label), verbose=1)"
   ]
  },
  {
   "cell_type": "code",
   "execution_count": 16,
   "id": "60934078",
   "metadata": {
    "execution": {
     "iopub.execute_input": "2022-11-10T13:53:11.442793Z",
     "iopub.status.busy": "2022-11-10T13:53:11.442135Z",
     "iopub.status.idle": "2022-11-10T13:53:12.661337Z",
     "shell.execute_reply": "2022-11-10T13:53:12.660381Z"
    },
    "id": "UPkxNcyo7zgX",
    "outputId": "8e246086-8b8b-4834-ce91-54333b128398",
    "papermill": {
     "duration": 1.390425,
     "end_time": "2022-11-10T13:53:12.664126",
     "exception": false,
     "start_time": "2022-11-10T13:53:11.273701",
     "status": "completed"
    },
    "tags": []
   },
   "outputs": [
    {
     "name": "stdout",
     "output_type": "stream",
     "text": [
      "7/7 [==============================] - 1s 12ms/step\n"
     ]
    },
    {
     "data": {
      "text/plain": [
       "array([[0.49770075, 0.4965722 ],\n",
       "       [0.50350994, 0.502493  ],\n",
       "       [0.5086631 , 0.50771046],\n",
       "       [0.5233065 , 0.5217646 ],\n",
       "       [0.5333126 , 0.5316817 ]], dtype=float32)"
      ]
     },
     "execution_count": 16,
     "metadata": {},
     "output_type": "execute_result"
    }
   ],
   "source": [
    "test_predicted = model.predict(test_seq)\n",
    "test_predicted[:5]"
   ]
  },
  {
   "cell_type": "code",
   "execution_count": 17,
   "id": "fcf2e7ad",
   "metadata": {
    "execution": {
     "iopub.execute_input": "2022-11-10T13:53:13.024643Z",
     "iopub.status.busy": "2022-11-10T13:53:13.023367Z",
     "iopub.status.idle": "2022-11-10T13:53:13.036383Z",
     "shell.execute_reply": "2022-11-10T13:53:13.034395Z"
    },
    "id": "DvRmpGcwLPhu",
    "outputId": "5a6b4974-370f-440d-bf4b-ca2d17b51f83",
    "papermill": {
     "duration": 0.194308,
     "end_time": "2022-11-10T13:53:13.039147",
     "exception": false,
     "start_time": "2022-11-10T13:53:12.844839",
     "status": "completed"
    },
    "tags": []
   },
   "outputs": [
    {
     "data": {
      "text/plain": [
       "array([[1593.6974, 1588.5771],\n",
       "       [1604.4672, 1599.5504],\n",
       "       [1614.0208, 1609.2201],\n",
       "       [1641.1683, 1635.2672],\n",
       "       [1659.719 , 1653.6471]], dtype=float32)"
      ]
     },
     "execution_count": 17,
     "metadata": {},
     "output_type": "execute_result"
    }
   ],
   "source": [
    "test_inverse_predicted = MMS.inverse_transform(test_predicted) # Inversing scaling on predicted data\n",
    "test_inverse_predicted[:5]"
   ]
  },
  {
   "cell_type": "markdown",
   "id": "545a3e65",
   "metadata": {
    "id": "3fX0hFZM61cO",
    "papermill": {
     "duration": 0.163165,
     "end_time": "2022-11-10T13:53:13.442765",
     "exception": false,
     "start_time": "2022-11-10T13:53:13.279600",
     "status": "completed"
    },
    "tags": []
   },
   "source": [
    "# Visualizing predicted and actual data"
   ]
  },
  {
   "cell_type": "code",
   "execution_count": 18,
   "id": "18193636",
   "metadata": {
    "execution": {
     "iopub.execute_input": "2022-11-10T13:53:13.777611Z",
     "iopub.status.busy": "2022-11-10T13:53:13.776858Z",
     "iopub.status.idle": "2022-11-10T13:53:13.784285Z",
     "shell.execute_reply": "2022-11-10T13:53:13.783258Z"
    },
    "id": "7KWDJaXAL8RT",
    "papermill": {
     "duration": 0.177515,
     "end_time": "2022-11-10T13:53:13.786783",
     "exception": false,
     "start_time": "2022-11-10T13:53:13.609268",
     "status": "completed"
    },
    "tags": []
   },
   "outputs": [],
   "source": [
    "# Merging actual and predicted data for better visualization\n",
    "\n",
    "gs_slic_data = pd.concat([google_stock_data.iloc[-202:].copy(),pd.DataFrame(test_inverse_predicted,columns=['open_predicted','close_predicted'],index=google_stock_data.iloc[-202:].index)], axis=1)"
   ]
  },
  {
   "cell_type": "code",
   "execution_count": 19,
   "id": "c07d0a93",
   "metadata": {
    "execution": {
     "iopub.execute_input": "2022-11-10T13:53:14.114954Z",
     "iopub.status.busy": "2022-11-10T13:53:14.114243Z",
     "iopub.status.idle": "2022-11-10T13:53:14.123131Z",
     "shell.execute_reply": "2022-11-10T13:53:14.122001Z"
    },
    "id": "VhQ1_JnJ0oYE",
    "papermill": {
     "duration": 0.17672,
     "end_time": "2022-11-10T13:53:14.125792",
     "exception": false,
     "start_time": "2022-11-10T13:53:13.949072",
     "status": "completed"
    },
    "tags": []
   },
   "outputs": [],
   "source": [
    "gs_slic_data[['open','close']] = MMS.inverse_transform(gs_slic_data[['open','close']]) # Inverse scaling"
   ]
  },
  {
   "cell_type": "code",
   "execution_count": 20,
   "id": "4e0652b4",
   "metadata": {
    "execution": {
     "iopub.execute_input": "2022-11-10T13:53:14.454004Z",
     "iopub.status.busy": "2022-11-10T13:53:14.453563Z",
     "iopub.status.idle": "2022-11-10T13:53:14.467891Z",
     "shell.execute_reply": "2022-11-10T13:53:14.466381Z"
    },
    "id": "M1fsx6gTO3io",
    "outputId": "7b5be0fb-8fab-44ca-9346-4163a6536d26",
    "papermill": {
     "duration": 0.182223,
     "end_time": "2022-11-10T13:53:14.470362",
     "exception": false,
     "start_time": "2022-11-10T13:53:14.288139",
     "status": "completed"
    },
    "tags": []
   },
   "outputs": [
    {
     "data": {
      "text/html": [
       "<div>\n",
       "<style scoped>\n",
       "    .dataframe tbody tr th:only-of-type {\n",
       "        vertical-align: middle;\n",
       "    }\n",
       "\n",
       "    .dataframe tbody tr th {\n",
       "        vertical-align: top;\n",
       "    }\n",
       "\n",
       "    .dataframe thead th {\n",
       "        text-align: right;\n",
       "    }\n",
       "</style>\n",
       "<table border=\"1\" class=\"dataframe\">\n",
       "  <thead>\n",
       "    <tr style=\"text-align: right;\">\n",
       "      <th></th>\n",
       "      <th>open</th>\n",
       "      <th>close</th>\n",
       "      <th>open_predicted</th>\n",
       "      <th>close_predicted</th>\n",
       "    </tr>\n",
       "    <tr>\n",
       "      <th>date</th>\n",
       "      <th></th>\n",
       "      <th></th>\n",
       "      <th></th>\n",
       "      <th></th>\n",
       "    </tr>\n",
       "  </thead>\n",
       "  <tbody>\n",
       "    <tr>\n",
       "      <th>2020-08-24</th>\n",
       "      <td>1593.98</td>\n",
       "      <td>1588.20</td>\n",
       "      <td>1593.697388</td>\n",
       "      <td>1588.577148</td>\n",
       "    </tr>\n",
       "    <tr>\n",
       "      <th>2020-08-25</th>\n",
       "      <td>1582.07</td>\n",
       "      <td>1608.22</td>\n",
       "      <td>1604.467163</td>\n",
       "      <td>1599.550415</td>\n",
       "    </tr>\n",
       "    <tr>\n",
       "      <th>2020-08-26</th>\n",
       "      <td>1608.00</td>\n",
       "      <td>1652.38</td>\n",
       "      <td>1614.020752</td>\n",
       "      <td>1609.220093</td>\n",
       "    </tr>\n",
       "    <tr>\n",
       "      <th>2020-08-27</th>\n",
       "      <td>1653.68</td>\n",
       "      <td>1634.33</td>\n",
       "      <td>1641.168335</td>\n",
       "      <td>1635.267212</td>\n",
       "    </tr>\n",
       "    <tr>\n",
       "      <th>2020-08-28</th>\n",
       "      <td>1633.49</td>\n",
       "      <td>1644.41</td>\n",
       "      <td>1659.718994</td>\n",
       "      <td>1653.647095</td>\n",
       "    </tr>\n",
       "  </tbody>\n",
       "</table>\n",
       "</div>"
      ],
      "text/plain": [
       "               open    close  open_predicted  close_predicted\n",
       "date                                                         \n",
       "2020-08-24  1593.98  1588.20     1593.697388      1588.577148\n",
       "2020-08-25  1582.07  1608.22     1604.467163      1599.550415\n",
       "2020-08-26  1608.00  1652.38     1614.020752      1609.220093\n",
       "2020-08-27  1653.68  1634.33     1641.168335      1635.267212\n",
       "2020-08-28  1633.49  1644.41     1659.718994      1653.647095"
      ]
     },
     "execution_count": 20,
     "metadata": {},
     "output_type": "execute_result"
    }
   ],
   "source": [
    "gs_slic_data.head()"
   ]
  },
  {
   "cell_type": "code",
   "execution_count": 21,
   "id": "1ca32c48",
   "metadata": {
    "execution": {
     "iopub.execute_input": "2022-11-10T13:53:14.796883Z",
     "iopub.status.busy": "2022-11-10T13:53:14.796514Z",
     "iopub.status.idle": "2022-11-10T13:53:15.085757Z",
     "shell.execute_reply": "2022-11-10T13:53:15.084104Z"
    },
    "id": "CFS9w3P30Hig",
    "outputId": "66adef77-4f7e-452e-9971-d7479a5c6a2a",
    "papermill": {
     "duration": 0.456277,
     "end_time": "2022-11-10T13:53:15.088524",
     "exception": false,
     "start_time": "2022-11-10T13:53:14.632247",
     "status": "completed"
    },
    "tags": []
   },
   "outputs": [
    {
     "data": {
      "image/png": "[encoded data removed]",
      "text/plain": [
       "<Figure size 720x432 with 1 Axes>"
      ]
     },
     "metadata": {
      "needs_background": "light"
     },
     "output_type": "display_data"
    }
   ],
   "source": [
    "gs_slic_data[['open','open_predicted']].plot(figsize=(10,6))\n",
    "plt.xticks(rotation=45)\n",
    "plt.xlabel('Date',size=15)\n",
    "plt.ylabel('Stock Price',size=15)\n",
    "plt.title('Actual vs Predicted for open price',size=15)\n",
    "plt.show()"
   ]
  },
  {
   "cell_type": "code",
   "execution_count": 22,
   "id": "e80718ad",
   "metadata": {
    "execution": {
     "iopub.execute_input": "2022-11-10T13:53:15.423800Z",
     "iopub.status.busy": "2022-11-10T13:53:15.423325Z",
     "iopub.status.idle": "2022-11-10T13:53:15.694406Z",
     "shell.execute_reply": "2022-11-10T13:53:15.692784Z"
    },
    "id": "YEYigZI8PFo1",
    "outputId": "0a9b81e8-2008-4058-dada-662c91108822",
    "papermill": {
     "duration": 0.441416,
     "end_time": "2022-11-10T13:53:15.697635",
     "exception": false,
     "start_time": "2022-11-10T13:53:15.256219",
     "status": "completed"
    },
    "tags": []
   },
   "outputs": [
    {
     "data": {
      "image/png": "[encoded data removed]",
      "text/plain": [
       "<Figure size 720x432 with 1 Axes>"
      ]
     },
     "metadata": {
      "needs_background": "light"
     },
     "output_type": "display_data"
    }
   ],
   "source": [
    "gs_slic_data[['close','close_predicted']].plot(figsize=(10,6))\n",
    "plt.xticks(rotation=45)\n",
    "plt.xlabel('Date',size=15)\n",
    "plt.ylabel('Stock Price',size=15)\n",
    "plt.title('Actual vs Predicted for close price',size=15)\n",
    "plt.show()"
   ]
  },
  {
   "cell_type": "markdown",
   "id": "e5877b09",
   "metadata": {
    "id": "WeWDN9x_6RIt",
    "papermill": {
     "duration": 0.1838,
     "end_time": "2022-11-10T13:53:16.058978",
     "exception": false,
     "start_time": "2022-11-10T13:53:15.875178",
     "status": "completed"
    },
    "tags": []
   },
   "source": [
    "# Predicting upcoming 10 days"
   ]
  },
  {
   "cell_type": "code",
   "execution_count": 23,
   "id": "77c49dff",
   "metadata": {
    "execution": {
     "iopub.execute_input": "2022-11-10T13:53:16.460886Z",
     "iopub.status.busy": "2022-11-10T13:53:16.460450Z",
     "iopub.status.idle": "2022-11-10T13:53:16.471292Z",
     "shell.execute_reply": "2022-11-10T13:53:16.470043Z"
    },
    "id": "ByoVNOEn0Ht4",
    "papermill": {
     "duration": 0.238756,
     "end_time": "2022-11-10T13:53:16.473637",
     "exception": false,
     "start_time": "2022-11-10T13:53:16.234881",
     "status": "completed"
    },
    "tags": []
   },
   "outputs": [
    {
     "name": "stderr",
     "output_type": "stream",
     "text": [
      "C:\\Users\\katta\\AppData\\Local\\Temp\\ipykernel_3184\\3062588007.py:3: FutureWarning: Argument `closed` is deprecated in favor of `inclusive`.\n",
      "  gs_slic_data = gs_slic_data.append(pd.DataFrame(columns=gs_slic_data.columns,index=pd.date_range(start=gs_slic_data.index[-1], periods=11, freq='D', closed='right')))\n",
      "C:\\Users\\katta\\AppData\\Local\\Temp\\ipykernel_3184\\3062588007.py:3: FutureWarning: The frame.append method is deprecated and will be removed from pandas in a future version. Use pandas.concat instead.\n",
      "  gs_slic_data = gs_slic_data.append(pd.DataFrame(columns=gs_slic_data.columns,index=pd.date_range(start=gs_slic_data.index[-1], periods=11, freq='D', closed='right')))\n"
     ]
    }
   ],
   "source": [
    "# Creating a dataframe and adding 10 days to existing index \n",
    "\n",
    "gs_slic_data = gs_slic_data.append(pd.DataFrame(columns=gs_slic_data.columns,index=pd.date_range(start=gs_slic_data.index[-1], periods=11, freq='D', closed='right')))\n"
   ]
  },
  {
   "cell_type": "code",
   "execution_count": 24,
   "id": "f9b32646",
   "metadata": {
    "execution": {
     "iopub.execute_input": "2022-11-10T13:53:16.807895Z",
     "iopub.status.busy": "2022-11-10T13:53:16.806618Z",
     "iopub.status.idle": "2022-11-10T13:53:16.836289Z",
     "shell.execute_reply": "2022-11-10T13:53:16.834515Z"
    },
    "id": "1s1rK-LV9Se_",
    "outputId": "6992b3eb-8fd2-46e8-bf57-5d63315720a1",
    "papermill": {
     "duration": 0.199852,
     "end_time": "2022-11-10T13:53:16.839437",
     "exception": false,
     "start_time": "2022-11-10T13:53:16.639585",
     "status": "completed"
    },
    "tags": []
   },
   "outputs": [
    {
     "data": {
      "text/html": [
       "<div>\n",
       "<style scoped>\n",
       "    .dataframe tbody tr th:only-of-type {\n",
       "        vertical-align: middle;\n",
       "    }\n",
       "\n",
       "    .dataframe tbody tr th {\n",
       "        vertical-align: top;\n",
       "    }\n",
       "\n",
       "    .dataframe thead th {\n",
       "        text-align: right;\n",
       "    }\n",
       "</style>\n",
       "<table border=\"1\" class=\"dataframe\">\n",
       "  <thead>\n",
       "    <tr style=\"text-align: right;\">\n",
       "      <th></th>\n",
       "      <th>open</th>\n",
       "      <th>close</th>\n",
       "      <th>open_predicted</th>\n",
       "      <th>close_predicted</th>\n",
       "    </tr>\n",
       "  </thead>\n",
       "  <tbody>\n",
       "    <tr>\n",
       "      <th>2021-06-09</th>\n",
       "      <td>2499.5</td>\n",
       "      <td>2491.4</td>\n",
       "      <td>2502.85791</td>\n",
       "      <td>2478.893311</td>\n",
       "    </tr>\n",
       "    <tr>\n",
       "      <th>2021-06-10</th>\n",
       "      <td>2494.01</td>\n",
       "      <td>2521.6</td>\n",
       "      <td>2515.920166</td>\n",
       "      <td>2492.767578</td>\n",
       "    </tr>\n",
       "    <tr>\n",
       "      <th>2021-06-11</th>\n",
       "      <td>2524.92</td>\n",
       "      <td>2513.93</td>\n",
       "      <td>2529.039307</td>\n",
       "      <td>2506.311279</td>\n",
       "    </tr>\n",
       "    <tr>\n",
       "      <th>2021-06-12</th>\n",
       "      <td>NaN</td>\n",
       "      <td>NaN</td>\n",
       "      <td>NaN</td>\n",
       "      <td>NaN</td>\n",
       "    </tr>\n",
       "    <tr>\n",
       "      <th>2021-06-13</th>\n",
       "      <td>NaN</td>\n",
       "      <td>NaN</td>\n",
       "      <td>NaN</td>\n",
       "      <td>NaN</td>\n",
       "    </tr>\n",
       "    <tr>\n",
       "      <th>2021-06-14</th>\n",
       "      <td>NaN</td>\n",
       "      <td>NaN</td>\n",
       "      <td>NaN</td>\n",
       "      <td>NaN</td>\n",
       "    </tr>\n",
       "    <tr>\n",
       "      <th>2021-06-15</th>\n",
       "      <td>NaN</td>\n",
       "      <td>NaN</td>\n",
       "      <td>NaN</td>\n",
       "      <td>NaN</td>\n",
       "    </tr>\n",
       "    <tr>\n",
       "      <th>2021-06-16</th>\n",
       "      <td>NaN</td>\n",
       "      <td>NaN</td>\n",
       "      <td>NaN</td>\n",
       "      <td>NaN</td>\n",
       "    </tr>\n",
       "  </tbody>\n",
       "</table>\n",
       "</div>"
      ],
      "text/plain": [
       "               open    close open_predicted close_predicted\n",
       "2021-06-09   2499.5   2491.4     2502.85791     2478.893311\n",
       "2021-06-10  2494.01   2521.6    2515.920166     2492.767578\n",
       "2021-06-11  2524.92  2513.93    2529.039307     2506.311279\n",
       "2021-06-12      NaN      NaN            NaN             NaN\n",
       "2021-06-13      NaN      NaN            NaN             NaN\n",
       "2021-06-14      NaN      NaN            NaN             NaN\n",
       "2021-06-15      NaN      NaN            NaN             NaN\n",
       "2021-06-16      NaN      NaN            NaN             NaN"
      ]
     },
     "execution_count": 24,
     "metadata": {},
     "output_type": "execute_result"
    }
   ],
   "source": [
    "gs_slic_data['2021-06-09\t':'2021-06-16']"
   ]
  },
  {
   "cell_type": "code",
   "execution_count": 25,
   "id": "1760c6a7",
   "metadata": {
    "execution": {
     "iopub.execute_input": "2022-11-10T13:53:17.206246Z",
     "iopub.status.busy": "2022-11-10T13:53:17.205709Z",
     "iopub.status.idle": "2022-11-10T13:53:17.216922Z",
     "shell.execute_reply": "2022-11-10T13:53:17.215420Z"
    },
    "id": "NZrOofTiTUpA",
    "papermill": {
     "duration": 0.199577,
     "end_time": "2022-11-10T13:53:17.219625",
     "exception": false,
     "start_time": "2022-11-10T13:53:17.020048",
     "status": "completed"
    },
    "tags": []
   },
   "outputs": [],
   "source": [
    "upcoming_prediction = pd.DataFrame(columns=['open','close'],index=gs_slic_data.index)\n",
    "upcoming_prediction.index=pd.to_datetime(upcoming_prediction.index)"
   ]
  },
  {
   "cell_type": "code",
   "execution_count": 26,
   "id": "5cde8579",
   "metadata": {
    "execution": {
     "iopub.execute_input": "2022-11-10T13:53:17.557547Z",
     "iopub.status.busy": "2022-11-10T13:53:17.556656Z",
     "iopub.status.idle": "2022-11-10T13:53:18.321015Z",
     "shell.execute_reply": "2022-11-10T13:53:18.319364Z"
    },
    "id": "fexYhMesZHEy",
    "papermill": {
     "duration": 0.937656,
     "end_time": "2022-11-10T13:53:18.324231",
     "exception": false,
     "start_time": "2022-11-10T13:53:17.386575",
     "status": "completed"
    },
    "tags": []
   },
   "outputs": [
    {
     "name": "stdout",
     "output_type": "stream",
     "text": [
      "1/1 [==============================] - 0s 28ms/step\n",
      "1/1 [==============================] - 0s 22ms/step\n",
      "1/1 [==============================] - 0s 23ms/step\n",
      "1/1 [==============================] - 0s 21ms/step\n",
      "1/1 [==============================] - 0s 21ms/step\n",
      "1/1 [==============================] - 0s 23ms/step\n",
      "1/1 [==============================] - 0s 26ms/step\n",
      "1/1 [==============================] - 0s 29ms/step\n",
      "1/1 [==============================] - 0s 24ms/step\n",
      "1/1 [==============================] - 0s 35ms/step\n"
     ]
    }
   ],
   "source": [
    "curr_seq = test_seq[-1:]\n",
    "\n",
    "for i in range(-10,0):\n",
    "  up_pred = model.predict(curr_seq)\n",
    "  upcoming_prediction.iloc[i] = up_pred\n",
    "  curr_seq = np.append(curr_seq[0][1:],up_pred,axis=0)\n",
    "  curr_seq = curr_seq.reshape(test_seq[-1:].shape)\n"
   ]
  },
  {
   "cell_type": "code",
   "execution_count": 27,
   "id": "ad83ecaa",
   "metadata": {
    "execution": {
     "iopub.execute_input": "2022-11-10T13:53:18.690065Z",
     "iopub.status.busy": "2022-11-10T13:53:18.689569Z",
     "iopub.status.idle": "2022-11-10T13:53:18.699785Z",
     "shell.execute_reply": "2022-11-10T13:53:18.698195Z"
    },
    "id": "ffiWW_EIZHMT",
    "papermill": {
     "duration": 0.19325,
     "end_time": "2022-11-10T13:53:18.702584",
     "exception": false,
     "start_time": "2022-11-10T13:53:18.509334",
     "status": "completed"
    },
    "tags": []
   },
   "outputs": [],
   "source": [
    "upcoming_prediction[['open','close']] = MMS.inverse_transform(upcoming_prediction[['open','close']])"
   ]
  },
  {
   "cell_type": "code",
   "execution_count": 28,
   "id": "e6bcbbe7",
   "metadata": {
    "execution": {
     "iopub.execute_input": "2022-11-10T13:53:19.068652Z",
     "iopub.status.busy": "2022-11-10T13:53:19.068231Z",
     "iopub.status.idle": "2022-11-10T13:53:19.336872Z",
     "shell.execute_reply": "2022-11-10T13:53:19.335486Z"
    },
    "id": "4DvMiPkTVlEe",
    "outputId": "c1ec957f-b7a4-46ed-858e-7a230b341ffa",
    "papermill": {
     "duration": 0.454276,
     "end_time": "2022-11-10T13:53:19.339648",
     "exception": false,
     "start_time": "2022-11-10T13:53:18.885372",
     "status": "completed"
    },
    "tags": []
   },
   "outputs": [
    {
     "name": "stderr",
     "output_type": "stream",
     "text": [
      "C:\\Users\\katta\\AppData\\Local\\Temp\\ipykernel_3184\\4155468105.py:9: UserWarning: Matplotlib is currently using module://matplotlib_inline.backend_inline, which is a non-GUI backend, so cannot show the figure.\n",
      "  fg.show()\n"
     ]
    },
    {
     "data": {
      "image/png": "[encoded data removed]",
      "text/plain": [
       "<Figure size 720x360 with 1 Axes>"
      ]
     },
     "metadata": {
      "needs_background": "light"
     },
     "output_type": "display_data"
    }
   ],
   "source": [
    "fg,ax=plt.subplots(figsize=(10,5))\n",
    "ax.plot(gs_slic_data.loc['2021-04-01':,'open'],label='Current Open Price')\n",
    "ax.plot(upcoming_prediction.loc['2021-04-01':,'open'],label='Upcoming Open Price')\n",
    "plt.setp(ax.xaxis.get_majorticklabels(), rotation=45)\n",
    "ax.set_xlabel('Date',size=15)\n",
    "ax.set_ylabel('Stock Price',size=15)\n",
    "ax.set_title('Upcoming Open price prediction',size=15)\n",
    "ax.legend()\n",
    "fg.show()"
   ]
  },
  {
   "cell_type": "code",
   "execution_count": 29,
   "id": "1d49ad46",
   "metadata": {
    "execution": {
     "iopub.execute_input": "2022-11-10T13:53:19.682565Z",
     "iopub.status.busy": "2022-11-10T13:53:19.681283Z",
     "iopub.status.idle": "2022-11-10T13:53:19.978851Z",
     "shell.execute_reply": "2022-11-10T13:53:19.977295Z"
    },
    "id": "r9EK16p7m8ZK",
    "outputId": "6bd4e931-511c-4575-ee32-339fca13794a",
    "papermill": {
     "duration": 0.46853,
     "end_time": "2022-11-10T13:53:19.981688",
     "exception": false,
     "start_time": "2022-11-10T13:53:19.513158",
     "status": "completed"
    },
    "tags": []
   },
   "outputs": [
    {
     "name": "stderr",
     "output_type": "stream",
     "text": [
      "C:\\Users\\katta\\AppData\\Local\\Temp\\ipykernel_3184\\548185773.py:9: UserWarning: Matplotlib is currently using module://matplotlib_inline.backend_inline, which is a non-GUI backend, so cannot show the figure.\n",
      "  fg.show()\n"
     ]
    },
    {
     "data": {
      "image/png": "[encoded data removed]",
      "text/plain": [
       "<Figure size 720x360 with 1 Axes>"
      ]
     },
     "metadata": {
      "needs_background": "light"
     },
     "output_type": "display_data"
    }
   ],
   "source": [
    "fg,ax=plt.subplots(figsize=(10,5))\n",
    "ax.plot(gs_slic_data.loc['2021-04-01':,'close'],label='Current close Price')\n",
    "ax.plot(upcoming_prediction.loc['2021-04-01':,'close'],label='Upcoming close Price')\n",
    "plt.setp(ax.xaxis.get_majorticklabels(), rotation=45)\n",
    "ax.set_xlabel('Date',size=15)\n",
    "ax.set_ylabel('Stock Price',size=15)\n",
    "ax.set_title('Upcoming close price prediction',size=15)\n",
    "ax.legend()\n",
    "fg.show()"
   ]
  },
  {
   "cell_type": "code",
   "execution_count": null,
   "id": "944e00b8",
   "metadata": {},
   "outputs": [],
   "source": []
  }
 ],
 "metadata": {
  "kernelspec": {
   "display_name": "Python 3 (ipykernel)",
   "language": "python",
   "name": "python3"
  },
  "language_info": {
   "codemirror_mode": {
    "name": "ipython",
    "version": 3
   },
   "file_extension": ".py",
   "mimetype": "text/x-python",
   "name": "python",
   "nbconvert_exporter": "python",
   "pygments_lexer": "ipython3",
   "version": "3.9.12"
  },
  "papermill": {
   "default_parameters": {},
   "duration": 269.546394,
   "end_time": "2022-11-10T13:53:23.465051",
   "environment_variables": {},
   "exception": null,
   "input_path": "__notebook__.ipynb",
   "output_path": "__notebook__.ipynb",
   "parameters": {},
   "start_time": "2022-11-10T13:48:53.918657",
   "version": "2.3.4"
  }
 },
 "nbformat": 4,
 "nbformat_minor": 5
}
